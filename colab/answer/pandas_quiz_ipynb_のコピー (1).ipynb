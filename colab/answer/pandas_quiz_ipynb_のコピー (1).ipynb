{
  "nbformat": 4,
  "nbformat_minor": 0,
  "metadata": {
    "colab": {
      "provenance": []
    },
    "kernelspec": {
      "display_name": "Python 3",
      "language": "python",
      "name": "python3"
    },
    "language_info": {
      "codemirror_mode": {
        "name": "ipython",
        "version": 3
      },
      "file_extension": ".py",
      "mimetype": "text/x-python",
      "name": "python",
      "nbconvert_exporter": "python",
      "pygments_lexer": "ipython3",
      "version": "3.7.4"
    }
  },
  "cells": [
    {
      "cell_type": "markdown",
      "metadata": {
        "id": "XfmMtuxKYRoO"
      },
      "source": [
        "# Pandas確認課題\n",
        "\n",
        "このPandas確認問題は、データサイエンス100本ノックの問題で最低限必要な問題を抜粋したものです。"
      ]
    },
    {
      "cell_type": "markdown",
      "metadata": {
        "id": "9ktBdoeha1jL"
      },
      "source": [
        "## 必要モジュールのインポート\n",
        "\n",
        "この問題で使うモジュールをインポートします．"
      ]
    },
    {
      "cell_type": "code",
      "metadata": {
        "id": "2IhABxEEaq19"
      },
      "source": [
        "import pandas as pd\n",
        "import numpy as np"
      ],
      "execution_count": null,
      "outputs": []
    },
    {
      "cell_type": "markdown",
      "metadata": {
        "id": "llLJCZTEa5Rb"
      },
      "source": [
        "## データの読み込み"
      ]
    },
    {
      "cell_type": "code",
      "metadata": {
        "id": "uN-SvpE_a50E"
      },
      "source": [
        "df_customer = pd.read_csv('https://raw.githubusercontent.com/The-Japan-DataScientist-Society/100knocks-preprocess/master/docker/work/data/customer.csv')\n",
        "df_product = pd.read_csv('https://raw.githubusercontent.com/The-Japan-DataScientist-Society/100knocks-preprocess/master/docker/work/data/product.csv')\n",
        "df_receipt = pd.read_csv('https://raw.githubusercontent.com/The-Japan-DataScientist-Society/100knocks-preprocess/master/docker/work/data/receipt.csv')"
      ],
      "execution_count": null,
      "outputs": []
    },
    {
      "cell_type": "markdown",
      "metadata": {
        "id": "xm5FMZJobU3Y"
      },
      "source": [
        "---\n",
        "## 問1. 条件抽出\n",
        "> P-006: レシート明細データフレーム「df_receipt」から売上日（sales_ymd）、顧客ID（customer_id）、商品コード（product_cd）、売上数量（quantity）、売上金額（amount）の順に列を指定し、以下の条件を満たすデータを抽出せよ。\n",
        "> - 顧客ID（customer_id）が\"CS018205000001\"\n",
        "> - 売上金額（amount）が1,000以上または売上数量（quantity）が5以上"
      ]
    },
    {
      "cell_type": "code",
      "metadata": {
        "colab": {
          "base_uri": "https://localhost:8080/"
        },
        "id": "KSOu6AWabVaD",
        "outputId": "3658fd85-71b9-482f-b2f6-994c11037d02"
      },
      "source": [
        "#列を指定\n",
        "selected_columns = ['sales_ymd', 'customer_id', 'product_cd', 'quantity', 'amount']\n",
        "# 条件を指定\n",
        "condition = (df_receipt['customer_id'] == 'CS018205000001') & ((df_receipt['amount'] >= 1000) | (df_receipt['quantity'] >= 5))\n",
        "#指定を合体\n",
        "#loc[<インデックスラベル>, <カラムラベル>]\n",
        "filtered_data = df_receipt.loc[condition, selected_columns]\n",
        "print(filtered_data)\n"
      ],
      "execution_count": null,
      "outputs": [
        {
          "output_type": "stream",
          "name": "stdout",
          "text": [
            "       sales_ymd     customer_id  product_cd  quantity  amount\n",
            "36      20180911  CS018205000001  P071401012         1    2200\n",
            "9843    20180414  CS018205000001  P060104007         6     600\n",
            "21110   20170614  CS018205000001  P050206001         5     990\n",
            "68117   20190226  CS018205000001  P071401020         1    2200\n",
            "72254   20180911  CS018205000001  P071401005         1    1100\n"
          ]
        }
      ]
    },
    {
      "cell_type": "markdown",
      "metadata": {
        "id": "7WsKq3Voj0LF"
      },
      "source": [
        "---\n",
        "## 問2. ソート\n",
        "> P-18: 顧客データフレーム（df_customer）を生年月日（birth_day）で若い順にソートし、先頭5件を全項目表示せよ。"
      ]
    },
    {
      "cell_type": "code",
      "metadata": {
        "colab": {
          "base_uri": "https://localhost:8080/"
        },
        "id": "uLdYmXgdjxaw",
        "outputId": "eeb8a9e5-a149-4be5-8231-55c13f9d4e68"
      },
      "source": [
        "#降順で並び替える\n",
        "#sort_values関数　 ascending=Falseで降順\n",
        "sorted_data = df_customer.sort_values(by='birth_day', ascending=False)\n",
        "#head()で先頭5つを呼び出す\n",
        "result = sorted_data.head(5)\n",
        "print(result)\n"
      ],
      "execution_count": null,
      "outputs": [
        {
          "output_type": "stream",
          "name": "stdout",
          "text": [
            "          customer_id customer_name  gender_cd gender   birth_day  age  \\\n",
            "15639  CS035114000004         大村 美里          1     女性  2007-11-25   11   \n",
            "7468   CS022103000002        福山 はじめ          9     不明  2007-10-02   11   \n",
            "10745  CS002113000009        柴田 真悠子          1     女性  2007-09-17   11   \n",
            "19811  CS004115000014         松井 京子          1     女性  2007-08-09   11   \n",
            "7039   CS002114000010          山内 遥          1     女性  2007-06-03   11   \n",
            "\n",
            "      postal_cd                address application_store_cd  application_date  \\\n",
            "15639  156-0053     東京都世田谷区桜**********               S13035          20150619   \n",
            "7468   249-0006    神奈川県逗子市逗子**********               S14022          20160909   \n",
            "10745  184-0014  東京都小金井市貫井南町**********               S13002          20160304   \n",
            "19811  165-0031    東京都中野区上鷺宮**********               S13004          20161120   \n",
            "7039   184-0015  東京都小金井市貫井北町**********               S13002          20160920   \n",
            "\n",
            "          status_cd  \n",
            "15639  6-20091205-6  \n",
            "7468   0-00000000-0  \n",
            "10745  0-00000000-0  \n",
            "19811  1-20081231-1  \n",
            "7039   6-20100510-1  \n"
          ]
        }
      ]
    },
    {
      "cell_type": "markdown",
      "metadata": {
        "id": "1lRGtDSphhyQ"
      },
      "source": [
        "---\n",
        "## 問3. 全件数\n",
        "> P-021: レシート明細データフレーム（df_receipt）に対し、件数をカウントせよ。"
      ]
    },
    {
      "cell_type": "code",
      "metadata": {
        "colab": {
          "base_uri": "https://localhost:8080/"
        },
        "id": "m-ihL_fVhhyQ",
        "outputId": "606d23dd-ea91-4908-e447-7fbae9b48af1"
      },
      "source": [
        "#データフレーム自体の件数をカウント\n",
        "#len()\n",
        "count = len(df_receipt)\n",
        "print(count)\n"
      ],
      "execution_count": null,
      "outputs": [
        {
          "output_type": "stream",
          "name": "stdout",
          "text": [
            "104681\n"
          ]
        }
      ]
    },
    {
      "cell_type": "markdown",
      "metadata": {
        "id": "MkjDW-oyhhyS"
      },
      "source": [
        "## 問4. ユニーク件数\n",
        "> P-022: レシート明細データフレーム（df_receipt）の顧客ID（customer_id）に対し、ユニーク件数をカウントせよ。"
      ]
    },
    {
      "cell_type": "code",
      "metadata": {
        "colab": {
          "base_uri": "https://localhost:8080/"
        },
        "id": "0xSI9r8UhhyS",
        "outputId": "8c87cec1-2848-4be9-c419-bb4d9a067a08"
      },
      "source": [
        "#顧客IDのユニークな件数をカウント=顧客の数を数える\n",
        "#nunique()\n",
        "count = df_receipt['customer_id'].nunique()\n",
        "print(count)\n"
      ],
      "execution_count": null,
      "outputs": [
        {
          "output_type": "stream",
          "name": "stdout",
          "text": [
            "8307\n"
          ]
        }
      ]
    },
    {
      "cell_type": "markdown",
      "metadata": {
        "id": "h9E9b_yUhhyq"
      },
      "source": [
        "---\n",
        "## 問5. 〇〇ごとに集計\n",
        "> P-035: レシート明細データフレーム（df_receipt）に対し、顧客ID（customer_id）ごとに売上金額（amount）を合計して全顧客の平均を求め、平均以上に買い物をしている顧客を抽出せよ。ただし、顧客IDが\"Z\"から始まるのものは非会員を表すため、除外して計算すること。なお、データは先頭5件だけ表示せよ。\n",
        "\n",
        "会員のみを抽出する方法は、例えば以下の2通りの方法があります。"
      ]
    },
    {
      "cell_type": "code",
      "metadata": {
        "id": "jMbZ8_n1eTew"
      },
      "source": [
        "df_receipt_only_member = df_receipt[~df_receipt[\"customer_id\"].str.startswith(\"Z\")]\n",
        "df_receipt_only_member = df_receipt.query(\"not customer_id.str.startswith('Z')\", engine=\"python\")"
      ],
      "execution_count": null,
      "outputs": []
    },
    {
      "cell_type": "code",
      "metadata": {
        "colab": {
          "base_uri": "https://localhost:8080/"
        },
        "id": "7lYKkmsohhyq",
        "outputId": "586fd7f0-b039-433c-a663-413b307fd59c"
      },
      "source": [
        "#顧客ごとに売上金額を合計する\n",
        "grouped_data = df_receipt_only_member.groupby(\"customer_id\")[\"amount\"].sum()\n",
        "#顧客の平均売上金額を計算\n",
        "average_amount = grouped_data.mean()\n",
        "#平均以上に買い物をしている顧客を抽出上5つを選択\n",
        "result = grouped_data[grouped_data >= average_amount].head(5)\n",
        "print(result)"
      ],
      "execution_count": null,
      "outputs": [
        {
          "output_type": "stream",
          "name": "stdout",
          "text": [
            "customer_id\n",
            "CS001115000010    3044\n",
            "CS001205000006    3337\n",
            "CS001214000009    4685\n",
            "CS001214000017    4132\n",
            "CS001214000052    5639\n",
            "Name: amount, dtype: int64\n"
          ]
        }
      ]
    },
    {
      "cell_type": "markdown",
      "metadata": {
        "id": "iNO7ESvWhhyw"
      },
      "source": [
        "---\n",
        "## 問6. DataFrameの結合\n",
        "> P-038: 顧客データフレーム（df_customer）とレシート明細データフレーム（df_receipt）から、各顧客ごとの売上金額合計を求めよ。ただし、買い物の実績がない顧客については売上金額を0として表示させること。また、顧客は性別コード（gender_cd）が女性（1）であるものを対象とし、非会員（顧客IDが'Z'から始まるもの）は除外すること。なお、結果は先頭5件だけ表示せよ。"
      ]
    },
    {
      "cell_type": "code",
      "metadata": {
        "id": "mzQkCjhoeTex"
      },
      "source": [
        "df_customer_only_member = df_customer[~df_customer[\"customer_id\"].str.startswith(\"Z\")]\n",
        "df_customer_only_member = df_customer.query(\"not customer_id.str.startswith('Z')\", engine=\"python\")"
      ],
      "execution_count": null,
      "outputs": []
    },
    {
      "cell_type": "code",
      "metadata": {
        "colab": {
          "base_uri": "https://localhost:8080/",
          "height": 458
        },
        "id": "hmc6LUaEhhyw",
        "outputId": "478c3b9f-1859-4964-e074-a47d087ea5ea"
      },
      "source": [
        "#顧客データフレーム（df_customer）とレシート明細データフレーム（df_receipt）の形を把握\n",
        "#女性の顧客データを絞り込む\n",
        "female_customers = df_customer[(df_customer[\"gender_cd\"] == 1)]\n",
        "#顧客ごとの売上金額合計を計算する\n",
        "customer_sales = df_receipt.groupby(\"customer_id\")[\"amount\"].sum()\n",
        "#女性の顧客データと売上金額合計を結合する\n",
        "#左結合　female_customersにcustomer_salesのamountを結合\n",
        "female_customer_sales = female_customers.merge(customer_sales, on=\"customer_id\", how=\"left\")\n",
        "#条件より買い物の実績がない顧客の売上金額を0として表示する\n",
        "female_customer_sales[\"amount\"] = female_customer_sales[\"amount\"].fillna(0)\n",
        "#先頭5件のデータを表示する\n",
        "female_customer_sales.head(5)\n",
        "#先に結合させて後に女性の顧客データを絞り込む方法も考えられる\n"
      ],
      "execution_count": null,
      "outputs": [
        {
          "output_type": "execute_result",
          "data": {
            "text/plain": [
              "      customer_id customer_name  gender_cd gender   birth_day  age postal_cd  \\\n",
              "0  CS021313000114        大野 あや子          1     女性  1981-04-29   37  259-1113   \n",
              "1  CS031415000172       宇多田 貴美子          1     女性  1976-10-04   42  151-0053   \n",
              "2  CS028811000001        堀井 かおり          1     女性  1933-03-27   86  245-0016   \n",
              "3  CS001215000145         田崎 美紀          1     女性  1995-03-29   24  144-0055   \n",
              "4  CS015414000103         奥野 陽子          1     女性  1977-08-09   41  136-0073   \n",
              "\n",
              "                  address application_store_cd  application_date  \\\n",
              "0    神奈川県伊勢原市粟窪**********               S14021          20150905   \n",
              "1     東京都渋谷区代々木**********               S13031          20150529   \n",
              "2  神奈川県横浜市泉区和泉町**********               S14028          20160115   \n",
              "3     東京都大田区仲六郷**********               S13001          20170605   \n",
              "4      東京都江東区北砂**********               S13015          20150722   \n",
              "\n",
              "      status_cd  amount  \n",
              "0  0-00000000-0     0.0  \n",
              "1  D-20100325-C  5088.0  \n",
              "2  0-00000000-0     0.0  \n",
              "3  6-20090929-2   875.0  \n",
              "4  B-20100609-B  3122.0  "
            ],
            "text/html": [
              "\n",
              "  <div id=\"df-0708f4be-3520-4463-b49f-89f8b3af5d9a\">\n",
              "    <div class=\"colab-df-container\">\n",
              "      <div>\n",
              "<style scoped>\n",
              "    .dataframe tbody tr th:only-of-type {\n",
              "        vertical-align: middle;\n",
              "    }\n",
              "\n",
              "    .dataframe tbody tr th {\n",
              "        vertical-align: top;\n",
              "    }\n",
              "\n",
              "    .dataframe thead th {\n",
              "        text-align: right;\n",
              "    }\n",
              "</style>\n",
              "<table border=\"1\" class=\"dataframe\">\n",
              "  <thead>\n",
              "    <tr style=\"text-align: right;\">\n",
              "      <th></th>\n",
              "      <th>customer_id</th>\n",
              "      <th>customer_name</th>\n",
              "      <th>gender_cd</th>\n",
              "      <th>gender</th>\n",
              "      <th>birth_day</th>\n",
              "      <th>age</th>\n",
              "      <th>postal_cd</th>\n",
              "      <th>address</th>\n",
              "      <th>application_store_cd</th>\n",
              "      <th>application_date</th>\n",
              "      <th>status_cd</th>\n",
              "      <th>amount</th>\n",
              "    </tr>\n",
              "  </thead>\n",
              "  <tbody>\n",
              "    <tr>\n",
              "      <th>0</th>\n",
              "      <td>CS021313000114</td>\n",
              "      <td>大野 あや子</td>\n",
              "      <td>1</td>\n",
              "      <td>女性</td>\n",
              "      <td>1981-04-29</td>\n",
              "      <td>37</td>\n",
              "      <td>259-1113</td>\n",
              "      <td>神奈川県伊勢原市粟窪**********</td>\n",
              "      <td>S14021</td>\n",
              "      <td>20150905</td>\n",
              "      <td>0-00000000-0</td>\n",
              "      <td>0.0</td>\n",
              "    </tr>\n",
              "    <tr>\n",
              "      <th>1</th>\n",
              "      <td>CS031415000172</td>\n",
              "      <td>宇多田 貴美子</td>\n",
              "      <td>1</td>\n",
              "      <td>女性</td>\n",
              "      <td>1976-10-04</td>\n",
              "      <td>42</td>\n",
              "      <td>151-0053</td>\n",
              "      <td>東京都渋谷区代々木**********</td>\n",
              "      <td>S13031</td>\n",
              "      <td>20150529</td>\n",
              "      <td>D-20100325-C</td>\n",
              "      <td>5088.0</td>\n",
              "    </tr>\n",
              "    <tr>\n",
              "      <th>2</th>\n",
              "      <td>CS028811000001</td>\n",
              "      <td>堀井 かおり</td>\n",
              "      <td>1</td>\n",
              "      <td>女性</td>\n",
              "      <td>1933-03-27</td>\n",
              "      <td>86</td>\n",
              "      <td>245-0016</td>\n",
              "      <td>神奈川県横浜市泉区和泉町**********</td>\n",
              "      <td>S14028</td>\n",
              "      <td>20160115</td>\n",
              "      <td>0-00000000-0</td>\n",
              "      <td>0.0</td>\n",
              "    </tr>\n",
              "    <tr>\n",
              "      <th>3</th>\n",
              "      <td>CS001215000145</td>\n",
              "      <td>田崎 美紀</td>\n",
              "      <td>1</td>\n",
              "      <td>女性</td>\n",
              "      <td>1995-03-29</td>\n",
              "      <td>24</td>\n",
              "      <td>144-0055</td>\n",
              "      <td>東京都大田区仲六郷**********</td>\n",
              "      <td>S13001</td>\n",
              "      <td>20170605</td>\n",
              "      <td>6-20090929-2</td>\n",
              "      <td>875.0</td>\n",
              "    </tr>\n",
              "    <tr>\n",
              "      <th>4</th>\n",
              "      <td>CS015414000103</td>\n",
              "      <td>奥野 陽子</td>\n",
              "      <td>1</td>\n",
              "      <td>女性</td>\n",
              "      <td>1977-08-09</td>\n",
              "      <td>41</td>\n",
              "      <td>136-0073</td>\n",
              "      <td>東京都江東区北砂**********</td>\n",
              "      <td>S13015</td>\n",
              "      <td>20150722</td>\n",
              "      <td>B-20100609-B</td>\n",
              "      <td>3122.0</td>\n",
              "    </tr>\n",
              "  </tbody>\n",
              "</table>\n",
              "</div>\n",
              "      <button class=\"colab-df-convert\" onclick=\"convertToInteractive('df-0708f4be-3520-4463-b49f-89f8b3af5d9a')\"\n",
              "              title=\"Convert this dataframe to an interactive table.\"\n",
              "              style=\"display:none;\">\n",
              "        \n",
              "  <svg xmlns=\"http://www.w3.org/2000/svg\" height=\"24px\"viewBox=\"0 0 24 24\"\n",
              "       width=\"24px\">\n",
              "    <path d=\"M0 0h24v24H0V0z\" fill=\"none\"/>\n",
              "    <path d=\"M18.56 5.44l.94 2.06.94-2.06 2.06-.94-2.06-.94-.94-2.06-.94 2.06-2.06.94zm-11 1L8.5 8.5l.94-2.06 2.06-.94-2.06-.94L8.5 2.5l-.94 2.06-2.06.94zm10 10l.94 2.06.94-2.06 2.06-.94-2.06-.94-.94-2.06-.94 2.06-2.06.94z\"/><path d=\"M17.41 7.96l-1.37-1.37c-.4-.4-.92-.59-1.43-.59-.52 0-1.04.2-1.43.59L10.3 9.45l-7.72 7.72c-.78.78-.78 2.05 0 2.83L4 21.41c.39.39.9.59 1.41.59.51 0 1.02-.2 1.41-.59l7.78-7.78 2.81-2.81c.8-.78.8-2.07 0-2.86zM5.41 20L4 18.59l7.72-7.72 1.47 1.35L5.41 20z\"/>\n",
              "  </svg>\n",
              "      </button>\n",
              "      \n",
              "  <style>\n",
              "    .colab-df-container {\n",
              "      display:flex;\n",
              "      flex-wrap:wrap;\n",
              "      gap: 12px;\n",
              "    }\n",
              "\n",
              "    .colab-df-convert {\n",
              "      background-color: #E8F0FE;\n",
              "      border: none;\n",
              "      border-radius: 50%;\n",
              "      cursor: pointer;\n",
              "      display: none;\n",
              "      fill: #1967D2;\n",
              "      height: 32px;\n",
              "      padding: 0 0 0 0;\n",
              "      width: 32px;\n",
              "    }\n",
              "\n",
              "    .colab-df-convert:hover {\n",
              "      background-color: #E2EBFA;\n",
              "      box-shadow: 0px 1px 2px rgba(60, 64, 67, 0.3), 0px 1px 3px 1px rgba(60, 64, 67, 0.15);\n",
              "      fill: #174EA6;\n",
              "    }\n",
              "\n",
              "    [theme=dark] .colab-df-convert {\n",
              "      background-color: #3B4455;\n",
              "      fill: #D2E3FC;\n",
              "    }\n",
              "\n",
              "    [theme=dark] .colab-df-convert:hover {\n",
              "      background-color: #434B5C;\n",
              "      box-shadow: 0px 1px 3px 1px rgba(0, 0, 0, 0.15);\n",
              "      filter: drop-shadow(0px 1px 2px rgba(0, 0, 0, 0.3));\n",
              "      fill: #FFFFFF;\n",
              "    }\n",
              "  </style>\n",
              "\n",
              "      <script>\n",
              "        const buttonEl =\n",
              "          document.querySelector('#df-0708f4be-3520-4463-b49f-89f8b3af5d9a button.colab-df-convert');\n",
              "        buttonEl.style.display =\n",
              "          google.colab.kernel.accessAllowed ? 'block' : 'none';\n",
              "\n",
              "        async function convertToInteractive(key) {\n",
              "          const element = document.querySelector('#df-0708f4be-3520-4463-b49f-89f8b3af5d9a');\n",
              "          const dataTable =\n",
              "            await google.colab.kernel.invokeFunction('convertToInteractive',\n",
              "                                                     [key], {});\n",
              "          if (!dataTable) return;\n",
              "\n",
              "          const docLinkHtml = 'Like what you see? Visit the ' +\n",
              "            '<a target=\"_blank\" href=https://colab.research.google.com/notebooks/data_table.ipynb>data table notebook</a>'\n",
              "            + ' to learn more about interactive tables.';\n",
              "          element.innerHTML = '';\n",
              "          dataTable['output_type'] = 'display_data';\n",
              "          await google.colab.output.renderOutput(dataTable, element);\n",
              "          const docLink = document.createElement('div');\n",
              "          docLink.innerHTML = docLinkHtml;\n",
              "          element.appendChild(docLink);\n",
              "        }\n",
              "      </script>\n",
              "    </div>\n",
              "  </div>\n",
              "  "
            ]
          },
          "metadata": {},
          "execution_count": 35
        }
      ]
    },
    {
      "cell_type": "markdown",
      "metadata": {
        "id": "umDmd8kohhzA"
      },
      "source": [
        "---\n",
        "## 問7. 時系列データ\n",
        "> P-046: 顧客データフレーム（df_customer）の申し込み日（application_date）はYYYYMMD形式の文字列型でデータを保有している。これを日付型（dateやdatetime）に変換し、顧客ID（customer_id）とともに抽出せよ。なお、データは先頭5件を表示せよ。"
      ]
    },
    {
      "cell_type": "code",
      "metadata": {
        "colab": {
          "base_uri": "https://localhost:8080/"
        },
        "id": "pVAxV-TWhhzA",
        "outputId": "a36b95a8-4699-4c92-d29a-2b66229726c6"
      },
      "source": [
        "#to_datetime()で日付型に変換\n",
        "df_customer['application_date'] = pd.to_datetime(df_customer['application_date'], format='%Y%m%d')\n",
        "selected_columns = ['customer_id', 'application_date']\n",
        "changed_data = df_customer[selected_columns].head(5)\n",
        "print(changed_data)\n"
      ],
      "execution_count": null,
      "outputs": [
        {
          "output_type": "stream",
          "name": "stdout",
          "text": [
            "      customer_id application_date\n",
            "0  CS021313000114       2015-09-05\n",
            "1  CS037613000071       2015-04-14\n",
            "2  CS031415000172       2015-05-29\n",
            "3  CS028811000001       2016-01-15\n",
            "4  CS001215000145       2017-06-05\n"
          ]
        }
      ]
    },
    {
      "cell_type": "markdown",
      "metadata": {
        "id": "9v_q6BLjhhzU"
      },
      "source": [
        "---\n",
        "## 問8. 関数\n",
        "> P-061: レシート明細データフレーム（df_receipt）の売上金額（amount）を顧客ID（customer_id）ごとに合計し、合計した売上金額を常用対数化（底=10）して顧客ID、売上金額合計とともに表示せよ。ただし、顧客IDが\"Z\"から始まるのものは非会員を表すため、除外して計算すること。なお、結果は先頭5件を表示せよ。"
      ]
    },
    {
      "cell_type": "markdown",
      "source": [],
      "metadata": {
        "id": "BQJKyPyi_9j2"
      }
    },
    {
      "cell_type": "code",
      "source": [
        "#非会員を除外\n",
        "df_customer_only_member = df_customer[~df_customer[\"customer_id\"].str.startswith(\"Z\")]\n",
        "#売上金額を顧客IDごとに合計 #resetしないと次からamountが呼び出せない　調べました\n",
        "customer_sales = df_receipt.groupby(\"customer_id\")[\"amount\"].sum().reset_index()\n",
        "#売上金額合計を常用対数化して新しい列として追加\n",
        "#常用対数に変換する場合は、np.logx\n",
        "customer_sales['log_amount'] = np.log10(customer_sales['amount'])\n",
        "#先頭5件を表示\n",
        "result = customer_sales.head(5)\n",
        "print(result)\n"
      ],
      "metadata": {
        "colab": {
          "base_uri": "https://localhost:8080/"
        },
        "id": "jHqFtUyGJHQu",
        "outputId": "e597faa5-b26e-45ae-b6c9-cf44e206f926"
      },
      "execution_count": null,
      "outputs": [
        {
          "output_type": "stream",
          "name": "stdout",
          "text": [
            "      customer_id  amount  log_amount\n",
            "0  CS001113000004    1298    3.113275\n",
            "1  CS001114000005     626    2.796574\n",
            "2  CS001115000010    3044    3.483445\n",
            "3  CS001205000004    1988    3.298416\n",
            "4  CS001205000006    3337    3.523356\n"
          ]
        }
      ]
    },
    {
      "cell_type": "code",
      "source": [],
      "metadata": {
        "id": "qEmZlxmnJZUV"
      },
      "execution_count": null,
      "outputs": []
    },
    {
      "cell_type": "markdown",
      "metadata": {
        "id": "boe923CMhhzq"
      },
      "source": [
        "---\n",
        "## 問9. 欠損数\n",
        "> P-079: 商品データフレーム（df_product）の各項目に対し、欠損数を確認せよ。"
      ]
    },
    {
      "cell_type": "code",
      "metadata": {
        "colab": {
          "base_uri": "https://localhost:8080/"
        },
        "id": "bxl__vC5hhzq",
        "outputId": "b3224186-f1be-43cc-9bae-92f794143bfb"
      },
      "source": [
        "#isnull()を用いる\n",
        "missing_counts = df_product.isnull().sum()\n",
        "print(missing_counts)\n"
      ],
      "execution_count": null,
      "outputs": [
        {
          "output_type": "stream",
          "name": "stdout",
          "text": [
            "product_cd            0\n",
            "category_major_cd     0\n",
            "category_medium_cd    0\n",
            "category_small_cd     0\n",
            "unit_price            7\n",
            "unit_cost             7\n",
            "dtype: int64\n"
          ]
        }
      ]
    },
    {
      "cell_type": "markdown",
      "metadata": {
        "id": "afprSqIvhhzs"
      },
      "source": [
        "---\n",
        "## 問10. 欠損値の除去\n",
        "> P-080: 商品データフレーム（df_product）のいずれかの項目に欠損が発生しているレコードを全て削除した新たなdf_product_1を作成せよ。なお、削除前後の件数を表示させ、前設問で確認した件数だけ減少していることも確認すること。"
      ]
    },
    {
      "cell_type": "code",
      "metadata": {
        "id": "q3_9sLdHhhzt"
      },
      "source": [
        "#欠損値を削除して新しくデータフレームを作る\n",
        "#dropna()\n",
        "df_product_1 = df_product.dropna()"
      ],
      "execution_count": null,
      "outputs": []
    },
    {
      "cell_type": "code",
      "metadata": {
        "id": "qFNnYstw1vTG",
        "outputId": "4ed99bdd-b5a3-42cc-c211-7b05c084acb7",
        "colab": {
          "base_uri": "https://localhost:8080/"
        }
      },
      "source": [
        "len(df_product), len(df_product_1)"
      ],
      "execution_count": null,
      "outputs": [
        {
          "output_type": "execute_result",
          "data": {
            "text/plain": [
              "(10030, 10023)"
            ]
          },
          "metadata": {},
          "execution_count": 75
        }
      ]
    },
    {
      "cell_type": "markdown",
      "metadata": {
        "id": "GtiO20ZKhhzu"
      },
      "source": [
        "---\n",
        "## 問11. 欠損値の穴埋め\n",
        "> P-081: 単価（unit_price）と原価（unit_cost）の欠損値について、それぞれの平均値で補完した新たなdf_product_2を作成せよ。なお、平均値について1円未満は四捨五入とせよ。補完実施後、各項目について欠損が生じていないことも確認すること。"
      ]
    },
    {
      "cell_type": "code",
      "metadata": {
        "id": "puFf-7Ewhhzu",
        "outputId": "d483da70-30c7-4134-f864-ec807f76928d",
        "colab": {
          "base_uri": "https://localhost:8080/"
        }
      },
      "source": [
        "#単価を埋める\n",
        "#round()で四捨五入\n",
        "#mean.で平均計算\n",
        "mean_unit_price = round(df_product[\"unit_price\"].mean())\n",
        "df_product[\"unit_price\"].fillna(mean_unit_price, inplace=True)\n",
        "#原価を埋める\n",
        "mean_unit_cost = round(df_product[\"unit_cost\"].mean())\n",
        "df_product[\"unit_cost\"].fillna(mean_unit_cost, inplace=True)\n",
        "df_product_2 = df_product\n",
        "#欠損がないか確認\n",
        "missing_counts = df_product_2.isnull().sum()\n",
        "print(missing_counts)"
      ],
      "execution_count": null,
      "outputs": [
        {
          "output_type": "stream",
          "name": "stdout",
          "text": [
            "product_cd            0\n",
            "category_major_cd     0\n",
            "category_medium_cd    0\n",
            "category_small_cd     0\n",
            "unit_price            0\n",
            "unit_cost             0\n",
            "dtype: int64\n"
          ]
        }
      ]
    }
  ]
}